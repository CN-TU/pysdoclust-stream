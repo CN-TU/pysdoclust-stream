{
 "cells": [
  {
   "cell_type": "code",
   "execution_count": 95,
   "metadata": {},
   "outputs": [],
   "source": [
    "import numpy as np\n",
    "\n"
   ]
  },
  {
   "cell_type": "code",
   "execution_count": 96,
   "metadata": {},
   "outputs": [],
   "source": [
    "class Buffer:\n",
    "    \"\"\"\n",
    "    A class to buffer data streams in batches (NumPy arrays).\n",
    "    \"\"\"\n",
    "    def __init__(self, input_buffer, nfeatures, dtype):\n",
    "        self.buffer = {'data': np.empty((0, nfeatures), dtype=dtype),  # Empty array with room for buffer size\n",
    "                       'times': np.empty((0, ), dtype=dtype)}  # Empty array with room for buffer size\n",
    "        self.input_buffer = input_buffer\n",
    "        self.nfeatures = nfeatures\n",
    "        self.dtype = dtype\n",
    "\n",
    "    def add_batch(self, data, times):\n",
    "        \"\"\"\n",
    "        Adds a batch of data points to the buffer and returns remaining data.\n",
    "\n",
    "        Args:\n",
    "          data: A NumPy array of shape (batch_size, n_features).\n",
    "\n",
    "        Returns:\n",
    "          A NumPy array of remaining data points that couldn't fit in the buffer.\n",
    "        \"\"\"\n",
    "\n",
    "        # Add data to the buffer\n",
    "        self.buffer['data'] = np.vstack((self.buffer['data'],  data))\n",
    "        self.buffer['times'] = np.hstack((self.buffer['times'], times))\n",
    "\n",
    "        # Check if buffer needs flushing\n",
    "        return self.flush()\n",
    "\n",
    "    def flush(self):\n",
    "        \"\"\"\n",
    "        Calls the provided program function with the buffered data and clears the buffer.\n",
    "\n",
    "        Returns:\n",
    "          data: A NumPy array of flushed data points.\n",
    "          times: A NumPy array of corresponding times.\n",
    "        \"\"\"\n",
    "        if self.buffer['data'].shape[0] >= self.input_buffer:\n",
    "            data = self.buffer['data'][:self.input_buffer]  # Slice to get requested elements\n",
    "            times = self.buffer['times'][:self.input_buffer]  # Slice to get requested elements\n",
    "            self.buffer['data'] = self.buffer['data'][self.input_buffer:]  # Remove returned elements\n",
    "            self.buffer['times'] = self.buffer['times'][self.input_buffer:]  # Remove returned elements\n",
    "            return data, times\n",
    "\n",
    "        return np.empty((0, self.nfeatures), dtype=self.dtype), np.empty((0, ), dtype=self.dtype)  # Empty buffer if no data\n",
    "\n",
    "\n"
   ]
  },
  {
   "cell_type": "code",
   "execution_count": 97,
   "metadata": {},
   "outputs": [
    {
     "name": "stdout",
     "output_type": "stream",
     "text": [
      "data: [[1. 2.]\n",
      " [3. 4.]\n",
      " [5. 6.]\n",
      " [7. 8.]]\n",
      "times: [1. 2. 3. 1.]\n",
      "data: [[ 9. 10.]\n",
      " [11. 12.]\n",
      " [13. 14.]\n",
      " [15. 16.]]\n",
      "times: [2. 3. 1. 2.]\n"
     ]
    }
   ],
   "source": [
    "# Test the Buffer class\n",
    "input_buffer = 4  # Buffer size\n",
    "buffer = Buffer(input_buffer, nfeatures=2, dtype=np.float64)\n",
    "\n",
    "# Add batches of data\n",
    "data_batch_1 = np.array([[1, 2], [3, 4], [5, 6]])\n",
    "times_batch_1 = times = np.arange(1, 1 + 3)\n",
    "data_batch_2 = np.array([[7, 8], [9, 10], [11, 12]])\n",
    "times_batch_2 = times = np.arange(1, 1 + 3)\n",
    "data_batch_3 = np.array([[13, 14], [15, 16], [17, 18]])\n",
    "times_batch_3 = times = np.arange(1, 1 + 3)\n",
    "\n",
    "data, times = buffer.add_batch(data_batch_1, times_batch_1)\n",
    "while data.shape[0]>0:\n",
    "    print(\"data:\", data)\n",
    "    print(\"times:\", times)\n",
    "    data, times = buffer.flush()\n",
    "\n",
    "data, times = buffer.add_batch(data_batch_2, times_batch_2)\n",
    "while data.shape[0]>0:\n",
    "    print(\"data:\", data)\n",
    "    print(\"times:\", times)\n",
    "    data, times = buffer.flush()\n",
    "    \n",
    "\n",
    "# flushed_data, flushed_times = buffer.flush()\n",
    "# print(\"Flushed data:\", flushed_data)\n",
    "# print(\"Flushed times:\", flushed_times)\n",
    "\n",
    "data, times = buffer.add_batch(data_batch_3, times_batch_3)\n",
    "while data.shape[0]>0:\n",
    "    print(\"data:\", data)\n",
    "    print(\"times:\", times)\n",
    "    data, times = buffer.flush()\n",
    "    "
   ]
  },
  {
   "cell_type": "code",
   "execution_count": 98,
   "metadata": {},
   "outputs": [
    {
     "name": "stdout",
     "output_type": "stream",
     "text": [
      "\n",
      "data: [[1.]\n",
      " [3.]\n",
      " [5.]\n",
      " [1.]]\n",
      "times: [1. 2. 3. 1.]\n",
      "\n",
      "\n",
      "data: [[2.]\n",
      " [5.]\n",
      " [1.]\n",
      " [4.]]\n",
      "times: [2. 3. 1. 2.]\n"
     ]
    }
   ],
   "source": [
    "# Test the Buffer class\n",
    "input_buffer = 4  # Buffer size\n",
    "buffer = Buffer(input_buffer, nfeatures=1, dtype=np.float64)\n",
    "\n",
    "\n",
    "# Add batches of data\n",
    "data_batch_1 = np.array([[1], [3], [5]])\n",
    "times_batch_1 = times = np.arange(1, 1 + 3)\n",
    "data_batch_2 = np.array([[1], [2], [5]])\n",
    "times_batch_2 = times = np.arange(1, 1 + 3)\n",
    "data_batch_3 = np.array([[1], [4], [5]])\n",
    "times_batch_3 = times = np.arange(1, 1 + 3)\n",
    "\n",
    "data, times = buffer.add_batch(data_batch_1, times_batch_1)\n",
    "while data.shape[0]>0:\n",
    "    print(\"data:\", data)\n",
    "    print(\"times:\", times)\n",
    "    data, times = buffer.flush()\n",
    "print(\"\")\n",
    "data, times = buffer.add_batch(data_batch_2, times_batch_2)\n",
    "while data.shape[0]>0:\n",
    "    print(\"data:\", data)\n",
    "    print(\"times:\", times)\n",
    "    data, times = buffer.flush()\n",
    "print(\"\")\n",
    "\n",
    "# flushed_data, flushed_times = buffer.flush()\n",
    "# print(\"Flushed data:\", flushed_data)\n",
    "# print(\"Flushed times:\", flushed_times)\n",
    "print(\"\")\n",
    "data, times = buffer.add_batch(data_batch_3, times_batch_3)\n",
    "while data.shape[0]>0:\n",
    "    print(\"data:\", data)\n",
    "    print(\"times:\", times)\n",
    "    data, times = buffer.flush()"
   ]
  },
  {
   "cell_type": "code",
   "execution_count": 99,
   "metadata": {},
   "outputs": [
    {
     "data": {
      "text/plain": [
       "1"
      ]
     },
     "execution_count": 99,
     "metadata": {},
     "output_type": "execute_result"
    }
   ],
   "source": [
    "data_batch_1.shape[1]"
   ]
  }
 ],
 "metadata": {
  "kernelspec": {
   "display_name": "netsec",
   "language": "python",
   "name": "python3"
  },
  "language_info": {
   "codemirror_mode": {
    "name": "ipython",
    "version": 3
   },
   "file_extension": ".py",
   "mimetype": "text/x-python",
   "name": "python",
   "nbconvert_exporter": "python",
   "pygments_lexer": "ipython3",
   "version": "3.7.16"
  }
 },
 "nbformat": 4,
 "nbformat_minor": 2
}
